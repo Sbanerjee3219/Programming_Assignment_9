{
 "cells": [
  {
   "cell_type": "code",
   "execution_count": 46,
   "metadata": {},
   "outputs": [],
   "source": [
    "class Assignment_9:\n",
    "    \n",
    "    #1.Write a Python program to check if the given number is a Disarium Number?\n",
    "    \n",
    "    def num_disarium(self):\n",
    "        n=input(\"Enter a number\")\n",
    "        sums=0\n",
    "        for i in range(len(n)):\n",
    "            sums+=int(n[i])**int(i+1)\n",
    "        if sums==int(n):\n",
    "            return \"Its a Disarium Numb\"\n",
    "        else:\n",
    "            return \"Its not\"\n",
    "        \n",
    "#   2.Write a Python program to print all disarium numbers between 1 to 100?\n",
    "\n",
    "    def range_disarium(self):\n",
    "        for i in range(1, 100):\n",
    "            number = str(i)\n",
    "            sums,j = 0,0\n",
    "            while j<len(number):\n",
    "                sums += int(number[j])**int(j+1)\n",
    "                j+=1\n",
    "            if sums == int(number):\n",
    "                print(i) \n",
    "    \n",
    "    #3.Write a Python program to check if the given number is Happy Number?\n",
    "    \n",
    "    def happy(self,a):\n",
    "           \n",
    "        res = 0\n",
    "        numb=str(a)\n",
    "        for i in range(len(numb)):\n",
    "            res += int(numb[i]) ** 2\n",
    "        if len(str(res)) > 1:\n",
    "            print(res)\n",
    "            self.happy(res)\n",
    "        else:\n",
    "            if res == 1:\n",
    "                print(\"its a Happy number\")\n",
    "            else:\n",
    "                print(\"its not a happy number\")\n",
    "    #4.Write a Python program to print all happy numbers between 1 and 100?\n",
    "    \n",
    "    def happyfilter(self,num):\n",
    "        result = 0\n",
    "        while num > 0:\n",
    "            rem = num % 10\n",
    "            result += rem ** 2\n",
    "            num = int(num / 10)\n",
    "        return result\n",
    "    def checkhappy(self):\n",
    "        for i in range(1, 101):\n",
    "            result = i;\n",
    "            while (result != 1 and result != 4):\n",
    "                result = self.happyfilter(result)\n",
    "\n",
    "            if (result == 1):\n",
    "                print(i)\n",
    "\n",
    "    #5.Write a Python program to determine whether the given number is a Harshad Number?\n",
    "   \n",
    "    def check_harshad(self, n):\n",
    "        temp,num=0,n\n",
    "        while n>0:\n",
    "            \n",
    "            rem=n%10\n",
    "            temp+=rem\n",
    "            n=int(n/10)\n",
    "        if num%temp==0:\n",
    "            return \"Its a Harshad number\"\n",
    "        else:\n",
    "            return \"Its not a harshad number\"\n",
    "    \n",
    "    \n",
    "    #6.Write a Python program to print all pronic numbers between 1 and 100?\n",
    "    def check_harshad_range(self,n):\n",
    "        for i in range(1,n):\n",
    "            temp=0\n",
    "            n=i\n",
    "            while n>0:\n",
    "\n",
    "                rem=n%10\n",
    "                temp+=rem\n",
    "                n=int(n/10)\n",
    "            if i%temp==0:\n",
    "                print(i)\n",
    "\n",
    "    \n",
    "\n",
    "\n",
    "    \n",
    "    def __str__(self):\n",
    "        return \"This will give solution to all the questions asked in the assignment\"\n",
    "    "
   ]
  },
  {
   "cell_type": "code",
   "execution_count": 49,
   "metadata": {},
   "outputs": [],
   "source": [
    "solution=Assignment_9()"
   ]
  },
  {
   "cell_type": "code",
   "execution_count": 50,
   "metadata": {},
   "outputs": [
    {
     "name": "stdout",
     "output_type": "stream",
     "text": [
      "Enter a number135\n"
     ]
    },
    {
     "data": {
      "text/plain": [
       "'Its a Disarium Numb'"
      ]
     },
     "execution_count": 50,
     "metadata": {},
     "output_type": "execute_result"
    }
   ],
   "source": [
    "solution.num_disarium()"
   ]
  },
  {
   "cell_type": "code",
   "execution_count": 51,
   "metadata": {},
   "outputs": [
    {
     "name": "stdout",
     "output_type": "stream",
     "text": [
      "1\n",
      "2\n",
      "3\n",
      "4\n",
      "5\n",
      "6\n",
      "7\n",
      "8\n",
      "9\n",
      "89\n"
     ]
    }
   ],
   "source": [
    "solution.range_disarium()"
   ]
  },
  {
   "cell_type": "code",
   "execution_count": 53,
   "metadata": {},
   "outputs": [
    {
     "name": "stdout",
     "output_type": "stream",
     "text": [
      "130\n",
      "10\n",
      "its a Happy number\n"
     ]
    }
   ],
   "source": [
    "solution.happy(79)"
   ]
  },
  {
   "cell_type": "code",
   "execution_count": 54,
   "metadata": {},
   "outputs": [
    {
     "name": "stdout",
     "output_type": "stream",
     "text": [
      "1\n",
      "7\n",
      "10\n",
      "13\n",
      "19\n",
      "23\n",
      "28\n",
      "31\n",
      "32\n",
      "44\n",
      "49\n",
      "68\n",
      "70\n",
      "79\n",
      "82\n",
      "86\n",
      "91\n",
      "94\n",
      "97\n",
      "100\n"
     ]
    }
   ],
   "source": [
    "solution.checkhappy()"
   ]
  },
  {
   "cell_type": "code",
   "execution_count": 55,
   "metadata": {},
   "outputs": [
    {
     "data": {
      "text/plain": [
       "'Its a Harshad number'"
      ]
     },
     "execution_count": 55,
     "metadata": {},
     "output_type": "execute_result"
    }
   ],
   "source": [
    "solution.check_harshad(156)"
   ]
  },
  {
   "cell_type": "code",
   "execution_count": 56,
   "metadata": {},
   "outputs": [
    {
     "name": "stdout",
     "output_type": "stream",
     "text": [
      "1\n",
      "2\n",
      "3\n",
      "4\n",
      "5\n",
      "6\n",
      "7\n",
      "8\n",
      "9\n",
      "10\n",
      "12\n",
      "18\n",
      "20\n",
      "21\n",
      "24\n",
      "27\n",
      "30\n",
      "36\n",
      "40\n",
      "42\n",
      "45\n",
      "48\n",
      "50\n",
      "54\n",
      "60\n",
      "63\n",
      "70\n",
      "72\n",
      "80\n",
      "81\n",
      "84\n",
      "90\n",
      "100\n"
     ]
    }
   ],
   "source": [
    "solution.check_harshad_range(101)"
   ]
  },
  {
   "cell_type": "code",
   "execution_count": null,
   "metadata": {},
   "outputs": [],
   "source": []
  }
 ],
 "metadata": {
  "kernelspec": {
   "display_name": "Python 3",
   "language": "python",
   "name": "python3"
  },
  "language_info": {
   "codemirror_mode": {
    "name": "ipython",
    "version": 3
   },
   "file_extension": ".py",
   "mimetype": "text/x-python",
   "name": "python",
   "nbconvert_exporter": "python",
   "pygments_lexer": "ipython3",
   "version": "3.8.3"
  }
 },
 "nbformat": 4,
 "nbformat_minor": 4
}
